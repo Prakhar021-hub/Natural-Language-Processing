{
  "nbformat": 4,
  "nbformat_minor": 0,
  "metadata": {
    "colab": {
      "provenance": [],
      "include_colab_link": true
    },
    "kernelspec": {
      "name": "python3",
      "display_name": "Python 3"
    },
    "language_info": {
      "name": "python"
    }
  },
  "cells": [
    {
      "cell_type": "markdown",
      "metadata": {
        "id": "view-in-github",
        "colab_type": "text"
      },
      "source": [
        "<a href=\"https://colab.research.google.com/github/Prakhar021-hub/Natural-Language-Processing/blob/main/6_Annotator_Creation_POS_tagging%2C_NER_.ipynb\" target=\"_parent\"><img src=\"https://colab.research.google.com/assets/colab-badge.svg\" alt=\"Open In Colab\"/></a>"
      ]
    },
    {
      "cell_type": "code",
      "execution_count": null,
      "metadata": {
        "colab": {
          "base_uri": "https://localhost:8080/"
        },
        "id": "wqiL7gk608jc",
        "outputId": "44dfa2ca-d5b7-4979-f6a7-34fd3d886fcf"
      },
      "outputs": [
        {
          "output_type": "stream",
          "name": "stdout",
          "text": [
            "POS Tagging Output: [('NLP', 'PROPN'), ('is', 'AUX'), ('amazing', 'ADJ'), ('.', 'PUNCT')]\n",
            "NER Output: [('Google', 'ORG'), ('Larry Page', 'PERSON'), ('Sergey Brin', 'PERSON')]\n"
          ]
        }
      ],
      "source": [
        "import spacy\n",
        "\n",
        "# Load the English NLP model\n",
        "nlp = spacy.load(\"en_core_web_sm\")\n",
        "\n",
        "# Sentences\n",
        "pos_sentence = \"NLP is amazing.\"\n",
        "ner_sentence = \"Google was founded by Larry Page and Sergey Brin.\"\n",
        "\n",
        "# Part-of-Speech (POS) Tagging\n",
        "pos_doc = nlp(pos_sentence)\n",
        "pos_tags = [(token.text, token.pos_) for token in pos_doc]\n",
        "\n",
        "# Named Entity Recognition (NER)\n",
        "ner_doc = nlp(ner_sentence)\n",
        "ner_tags = [(ent.text, ent.label_) for ent in ner_doc.ents]\n",
        "\n",
        "# Print Results\n",
        "print(\"POS Tagging Output:\", pos_tags)\n",
        "print(\"NER Output:\", ner_tags)\n"
      ]
    },
    {
      "cell_type": "code",
      "source": [],
      "metadata": {
        "id": "NM6fqA7O09Nj"
      },
      "execution_count": null,
      "outputs": []
    }
  ]
}